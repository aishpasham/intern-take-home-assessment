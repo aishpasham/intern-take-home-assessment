{
 "cells": [
  {
   "cell_type": "markdown",
   "metadata": {},
   "source": [
    "\n",
    "### Task 2: Preliminary Data Analysis"
   ]
  },
  {
   "cell_type": "markdown",
   "metadata": {},
   "source": [
    "Summary: Transaction data coming from system 3 is in the format of json while system 2 data is a text file and system 1 data is a csv. Almost every transaction dataset has null profit values. To take care of this, we must either eliminate those rows when transforming the data or keep the null values. The different types of files create discrepancies in the type of columns. The data column is a DateTime object (timestamp) in the transaction json while it is a string object in the txt and csv files. The dates are also formatted differently in some files. They are either Y-m-d or m-d-Y and need to have the same format. Similarly, profit is type float in the json while it is a string object in csv and txt. In addition, csv has a dollar sign appended to the profit values and txt has leading 0s in its values. This must be taken care of when transforming the data to match the type of column and format to the database specifications. \n",
    "\n",
    "Note: Detailed findings for each dataset below."
   ]
  },
  {
   "cell_type": "code",
   "execution_count": 1,
   "metadata": {},
   "outputs": [
    {
     "data": {
      "text/html": [
       "<div>\n",
       "<style scoped>\n",
       "    .dataframe tbody tr th:only-of-type {\n",
       "        vertical-align: middle;\n",
       "    }\n",
       "\n",
       "    .dataframe tbody tr th {\n",
       "        vertical-align: top;\n",
       "    }\n",
       "\n",
       "    .dataframe thead th {\n",
       "        text-align: right;\n",
       "    }\n",
       "</style>\n",
       "<table border=\"1\" class=\"dataframe\">\n",
       "  <thead>\n",
       "    <tr style=\"text-align: right;\">\n",
       "      <th></th>\n",
       "      <th>location_id</th>\n",
       "      <th>date</th>\n",
       "      <th>transaction_id</th>\n",
       "      <th>profit</th>\n",
       "    </tr>\n",
       "  </thead>\n",
       "  <tbody>\n",
       "    <tr>\n",
       "      <th>0</th>\n",
       "      <td>1</td>\n",
       "      <td>2019-01-02</td>\n",
       "      <td>1</td>\n",
       "      <td>25.14</td>\n",
       "    </tr>\n",
       "    <tr>\n",
       "      <th>1</th>\n",
       "      <td>1</td>\n",
       "      <td>2019-01-02</td>\n",
       "      <td>2</td>\n",
       "      <td>21.69</td>\n",
       "    </tr>\n",
       "    <tr>\n",
       "      <th>2</th>\n",
       "      <td>1</td>\n",
       "      <td>2019-01-02</td>\n",
       "      <td>3</td>\n",
       "      <td>24.74</td>\n",
       "    </tr>\n",
       "    <tr>\n",
       "      <th>3</th>\n",
       "      <td>1</td>\n",
       "      <td>2019-01-02</td>\n",
       "      <td>4</td>\n",
       "      <td>23.08</td>\n",
       "    </tr>\n",
       "    <tr>\n",
       "      <th>4</th>\n",
       "      <td>1</td>\n",
       "      <td>2019-01-02</td>\n",
       "      <td>5</td>\n",
       "      <td>23.24</td>\n",
       "    </tr>\n",
       "    <tr>\n",
       "      <th>...</th>\n",
       "      <td>...</td>\n",
       "      <td>...</td>\n",
       "      <td>...</td>\n",
       "      <td>...</td>\n",
       "    </tr>\n",
       "    <tr>\n",
       "      <th>9330</th>\n",
       "      <td>1</td>\n",
       "      <td>2022-09-11</td>\n",
       "      <td>7</td>\n",
       "      <td>24.26</td>\n",
       "    </tr>\n",
       "    <tr>\n",
       "      <th>9331</th>\n",
       "      <td>1</td>\n",
       "      <td>2022-09-11</td>\n",
       "      <td>8</td>\n",
       "      <td>22.55</td>\n",
       "    </tr>\n",
       "    <tr>\n",
       "      <th>9332</th>\n",
       "      <td>1</td>\n",
       "      <td>2022-09-11</td>\n",
       "      <td>9</td>\n",
       "      <td>18.17</td>\n",
       "    </tr>\n",
       "    <tr>\n",
       "      <th>9333</th>\n",
       "      <td>1</td>\n",
       "      <td>2022-09-11</td>\n",
       "      <td>10</td>\n",
       "      <td>21.31</td>\n",
       "    </tr>\n",
       "    <tr>\n",
       "      <th>9334</th>\n",
       "      <td>1</td>\n",
       "      <td>2022-09-11</td>\n",
       "      <td>11</td>\n",
       "      <td>26.31</td>\n",
       "    </tr>\n",
       "  </tbody>\n",
       "</table>\n",
       "<p>9335 rows × 4 columns</p>\n",
       "</div>"
      ],
      "text/plain": [
       "      location_id       date  transaction_id  profit\n",
       "0               1 2019-01-02               1   25.14\n",
       "1               1 2019-01-02               2   21.69\n",
       "2               1 2019-01-02               3   24.74\n",
       "3               1 2019-01-02               4   23.08\n",
       "4               1 2019-01-02               5   23.24\n",
       "...           ...        ...             ...     ...\n",
       "9330            1 2022-09-11               7   24.26\n",
       "9331            1 2022-09-11               8   22.55\n",
       "9332            1 2022-09-11               9   18.17\n",
       "9333            1 2022-09-11              10   21.31\n",
       "9334            1 2022-09-11              11   26.31\n",
       "\n",
       "[9335 rows x 4 columns]"
      ]
     },
     "execution_count": 1,
     "metadata": {},
     "output_type": "execute_result"
    }
   ],
   "source": [
    "import pandas as pd \n",
    "df_trans1 = pd.read_json('../data/transactions_001_system3.json')\n",
    "df_trans1"
   ]
  },
  {
   "cell_type": "code",
   "execution_count": 2,
   "metadata": {},
   "outputs": [
    {
     "data": {
      "text/plain": [
       "location_id                int64\n",
       "date              datetime64[ns]\n",
       "transaction_id             int64\n",
       "profit                   float64\n",
       "dtype: object"
      ]
     },
     "execution_count": 2,
     "metadata": {},
     "output_type": "execute_result"
    }
   ],
   "source": [
    "df_trans1.dtypes"
   ]
  },
  {
   "cell_type": "code",
   "execution_count": 3,
   "metadata": {},
   "outputs": [
    {
     "name": "stdout",
     "output_type": "stream",
     "text": [
      "      location_id       date  transaction_id  profit\n",
      "2973            1 2020-02-07               1     NaN\n",
      "3031            1 2020-02-14               1     NaN\n"
     ]
    }
   ],
   "source": [
    "rows_with_nulls1 = df_trans1[df_trans1.isnull().any(axis=1)]\n",
    "print(rows_with_nulls1)"
   ]
  },
  {
   "cell_type": "code",
   "execution_count": 4,
   "metadata": {},
   "outputs": [
    {
     "data": {
      "text/plain": [
       "[Timestamp('2019-01-02 00:00:00'),\n",
       " Timestamp('2022-09-11 00:00:00'),\n",
       " -30.36,\n",
       " 34.96]"
      ]
     },
     "execution_count": 4,
     "metadata": {},
     "output_type": "execute_result"
    }
   ],
   "source": [
    "min_date = df_trans1['date'].min()\n",
    "max_date = df_trans1['date'].max()\n",
    "min_profit = df_trans1['profit'].min()\n",
    "max_profit = df_trans1['profit'].max()\n",
    "list = [min_date, max_date, min_profit, max_profit]\n",
    "list"
   ]
  },
  {
   "cell_type": "markdown",
   "metadata": {},
   "source": [
    "Location 1 seems to be operating from 1/2/2019 to 9/11/2022 with 9,335 transactions. It's highest profit is \\$34.96 and lowest is \\$-30.36. It has two null profits on 2/7/2020 and 2/14/2020."
   ]
  },
  {
   "cell_type": "code",
   "execution_count": 5,
   "metadata": {},
   "outputs": [
    {
     "data": {
      "text/html": [
       "<div>\n",
       "<style scoped>\n",
       "    .dataframe tbody tr th:only-of-type {\n",
       "        vertical-align: middle;\n",
       "    }\n",
       "\n",
       "    .dataframe tbody tr th {\n",
       "        vertical-align: top;\n",
       "    }\n",
       "\n",
       "    .dataframe thead th {\n",
       "        text-align: right;\n",
       "    }\n",
       "</style>\n",
       "<table border=\"1\" class=\"dataframe\">\n",
       "  <thead>\n",
       "    <tr style=\"text-align: right;\">\n",
       "      <th></th>\n",
       "      <th>location_id</th>\n",
       "      <th>date</th>\n",
       "      <th>transaction_id</th>\n",
       "      <th>profit</th>\n",
       "    </tr>\n",
       "  </thead>\n",
       "  <tbody>\n",
       "    <tr>\n",
       "      <th>0</th>\n",
       "      <td>2</td>\n",
       "      <td>2019-01-02</td>\n",
       "      <td>1</td>\n",
       "      <td>21.09</td>\n",
       "    </tr>\n",
       "    <tr>\n",
       "      <th>1</th>\n",
       "      <td>2</td>\n",
       "      <td>2019-01-02</td>\n",
       "      <td>2</td>\n",
       "      <td>18.56</td>\n",
       "    </tr>\n",
       "    <tr>\n",
       "      <th>2</th>\n",
       "      <td>2</td>\n",
       "      <td>2019-01-02</td>\n",
       "      <td>3</td>\n",
       "      <td>18.35</td>\n",
       "    </tr>\n",
       "    <tr>\n",
       "      <th>3</th>\n",
       "      <td>2</td>\n",
       "      <td>2019-01-02</td>\n",
       "      <td>4</td>\n",
       "      <td>20.45</td>\n",
       "    </tr>\n",
       "    <tr>\n",
       "      <th>4</th>\n",
       "      <td>2</td>\n",
       "      <td>2019-01-02</td>\n",
       "      <td>5</td>\n",
       "      <td>21.21</td>\n",
       "    </tr>\n",
       "    <tr>\n",
       "      <th>...</th>\n",
       "      <td>...</td>\n",
       "      <td>...</td>\n",
       "      <td>...</td>\n",
       "      <td>...</td>\n",
       "    </tr>\n",
       "    <tr>\n",
       "      <th>10366</th>\n",
       "      <td>2</td>\n",
       "      <td>2022-09-11</td>\n",
       "      <td>12</td>\n",
       "      <td>20.15</td>\n",
       "    </tr>\n",
       "    <tr>\n",
       "      <th>10367</th>\n",
       "      <td>2</td>\n",
       "      <td>2022-09-11</td>\n",
       "      <td>13</td>\n",
       "      <td>23.48</td>\n",
       "    </tr>\n",
       "    <tr>\n",
       "      <th>10368</th>\n",
       "      <td>2</td>\n",
       "      <td>2022-09-11</td>\n",
       "      <td>14</td>\n",
       "      <td>22.21</td>\n",
       "    </tr>\n",
       "    <tr>\n",
       "      <th>10369</th>\n",
       "      <td>2</td>\n",
       "      <td>2022-09-11</td>\n",
       "      <td>15</td>\n",
       "      <td>23.55</td>\n",
       "    </tr>\n",
       "    <tr>\n",
       "      <th>10370</th>\n",
       "      <td>2</td>\n",
       "      <td>2022-09-11</td>\n",
       "      <td>16</td>\n",
       "      <td>25.20</td>\n",
       "    </tr>\n",
       "  </tbody>\n",
       "</table>\n",
       "<p>10371 rows × 4 columns</p>\n",
       "</div>"
      ],
      "text/plain": [
       "       location_id       date  transaction_id  profit\n",
       "0                2 2019-01-02               1   21.09\n",
       "1                2 2019-01-02               2   18.56\n",
       "2                2 2019-01-02               3   18.35\n",
       "3                2 2019-01-02               4   20.45\n",
       "4                2 2019-01-02               5   21.21\n",
       "...            ...        ...             ...     ...\n",
       "10366            2 2022-09-11              12   20.15\n",
       "10367            2 2022-09-11              13   23.48\n",
       "10368            2 2022-09-11              14   22.21\n",
       "10369            2 2022-09-11              15   23.55\n",
       "10370            2 2022-09-11              16   25.20\n",
       "\n",
       "[10371 rows x 4 columns]"
      ]
     },
     "execution_count": 5,
     "metadata": {},
     "output_type": "execute_result"
    }
   ],
   "source": [
    "df_trans2 = pd.read_json('../data/transactions_002_system3.json')\n",
    "df_trans2"
   ]
  },
  {
   "cell_type": "code",
   "execution_count": 6,
   "metadata": {},
   "outputs": [
    {
     "name": "stdout",
     "output_type": "stream",
     "text": [
      "      location_id       date  transaction_id  profit\n",
      "3545            2 2020-05-29               1     NaN\n",
      "3546            2 2020-05-30               1     NaN\n",
      "3693            2 2020-06-15               1     NaN\n"
     ]
    }
   ],
   "source": [
    "rows_with_nulls2 = df_trans2[df_trans2.isnull().any(axis=1)]\n",
    "print(rows_with_nulls2)"
   ]
  },
  {
   "cell_type": "code",
   "execution_count": 7,
   "metadata": {},
   "outputs": [
    {
     "data": {
      "text/plain": [
       "[Timestamp('2019-01-02 00:00:00'),\n",
       " Timestamp('2022-09-11 00:00:00'),\n",
       " -26.87,\n",
       " 29.38]"
      ]
     },
     "execution_count": 7,
     "metadata": {},
     "output_type": "execute_result"
    }
   ],
   "source": [
    "min_date = df_trans2['date'].min()\n",
    "max_date = df_trans2['date'].max()\n",
    "min_profit = df_trans2['profit'].min()\n",
    "max_profit = df_trans2['profit'].max()\n",
    "list = [min_date, max_date, min_profit, max_profit]\n",
    "list"
   ]
  },
  {
   "cell_type": "markdown",
   "metadata": {},
   "source": [
    "Location 2 seems to be operating from 1/2/2019 to 9/11/2022 with 10,371 transactions. It's highest profit is \\$29.38 and lowest is \\$-26.87. It has three null profits on 5/29/2020, 5/30/2020, and 6/15/2020."
   ]
  },
  {
   "cell_type": "code",
   "execution_count": 8,
   "metadata": {},
   "outputs": [
    {
     "data": {
      "text/html": [
       "<div>\n",
       "<style scoped>\n",
       "    .dataframe tbody tr th:only-of-type {\n",
       "        vertical-align: middle;\n",
       "    }\n",
       "\n",
       "    .dataframe tbody tr th {\n",
       "        vertical-align: top;\n",
       "    }\n",
       "\n",
       "    .dataframe thead th {\n",
       "        text-align: right;\n",
       "    }\n",
       "</style>\n",
       "<table border=\"1\" class=\"dataframe\">\n",
       "  <thead>\n",
       "    <tr style=\"text-align: right;\">\n",
       "      <th></th>\n",
       "      <th>location_id</th>\n",
       "      <th>date</th>\n",
       "      <th>transaction_id</th>\n",
       "      <th>profit</th>\n",
       "    </tr>\n",
       "  </thead>\n",
       "  <tbody>\n",
       "    <tr>\n",
       "      <th>0</th>\n",
       "      <td>3</td>\n",
       "      <td>01-02-2019</td>\n",
       "      <td>1</td>\n",
       "      <td>0026.74</td>\n",
       "    </tr>\n",
       "    <tr>\n",
       "      <th>1</th>\n",
       "      <td>3</td>\n",
       "      <td>01-02-2019</td>\n",
       "      <td>2</td>\n",
       "      <td>0023.26</td>\n",
       "    </tr>\n",
       "    <tr>\n",
       "      <th>2</th>\n",
       "      <td>3</td>\n",
       "      <td>01-02-2019</td>\n",
       "      <td>3</td>\n",
       "      <td>0028.66</td>\n",
       "    </tr>\n",
       "    <tr>\n",
       "      <th>3</th>\n",
       "      <td>3</td>\n",
       "      <td>01-02-2019</td>\n",
       "      <td>4</td>\n",
       "      <td>0029.69</td>\n",
       "    </tr>\n",
       "    <tr>\n",
       "      <th>4</th>\n",
       "      <td>3</td>\n",
       "      <td>01-02-2019</td>\n",
       "      <td>5</td>\n",
       "      <td>0025.55</td>\n",
       "    </tr>\n",
       "    <tr>\n",
       "      <th>...</th>\n",
       "      <td>...</td>\n",
       "      <td>...</td>\n",
       "      <td>...</td>\n",
       "      <td>...</td>\n",
       "    </tr>\n",
       "    <tr>\n",
       "      <th>8054</th>\n",
       "      <td>3</td>\n",
       "      <td>09-11-2022</td>\n",
       "      <td>7</td>\n",
       "      <td>0025.71</td>\n",
       "    </tr>\n",
       "    <tr>\n",
       "      <th>8055</th>\n",
       "      <td>3</td>\n",
       "      <td>09-11-2022</td>\n",
       "      <td>8</td>\n",
       "      <td>0024.99</td>\n",
       "    </tr>\n",
       "    <tr>\n",
       "      <th>8056</th>\n",
       "      <td>3</td>\n",
       "      <td>09-11-2022</td>\n",
       "      <td>9</td>\n",
       "      <td>0026.62</td>\n",
       "    </tr>\n",
       "    <tr>\n",
       "      <th>8057</th>\n",
       "      <td>3</td>\n",
       "      <td>09-11-2022</td>\n",
       "      <td>10</td>\n",
       "      <td>0023.05</td>\n",
       "    </tr>\n",
       "    <tr>\n",
       "      <th>8058</th>\n",
       "      <td>3</td>\n",
       "      <td>09-11-2022</td>\n",
       "      <td>11</td>\n",
       "      <td>0027.99</td>\n",
       "    </tr>\n",
       "  </tbody>\n",
       "</table>\n",
       "<p>8059 rows × 4 columns</p>\n",
       "</div>"
      ],
      "text/plain": [
       "      location_id        date  transaction_id   profit\n",
       "0               3  01-02-2019               1  0026.74\n",
       "1               3  01-02-2019               2  0023.26\n",
       "2               3  01-02-2019               3  0028.66\n",
       "3               3  01-02-2019               4  0029.69\n",
       "4               3  01-02-2019               5  0025.55\n",
       "...           ...         ...             ...      ...\n",
       "8054            3  09-11-2022               7  0025.71\n",
       "8055            3  09-11-2022               8  0024.99\n",
       "8056            3  09-11-2022               9  0026.62\n",
       "8057            3  09-11-2022              10  0023.05\n",
       "8058            3  09-11-2022              11  0027.99\n",
       "\n",
       "[8059 rows x 4 columns]"
      ]
     },
     "execution_count": 8,
     "metadata": {},
     "output_type": "execute_result"
    }
   ],
   "source": [
    "df_trans3 = pd.read_csv('../data/transactions_003_system2.txt', sep='\\t')\n",
    "df_trans3"
   ]
  },
  {
   "cell_type": "code",
   "execution_count": 9,
   "metadata": {},
   "outputs": [
    {
     "data": {
      "text/plain": [
       "location_id        int64\n",
       "date              object\n",
       "transaction_id     int64\n",
       "profit            object\n",
       "dtype: object"
      ]
     },
     "execution_count": 9,
     "metadata": {},
     "output_type": "execute_result"
    }
   ],
   "source": [
    "df_trans3.dtypes"
   ]
  },
  {
   "cell_type": "code",
   "execution_count": 10,
   "metadata": {},
   "outputs": [
    {
     "name": "stdout",
     "output_type": "stream",
     "text": [
      "      location_id        date  transaction_id profit\n",
      "2655            3  02-10-2020               1    NaN\n"
     ]
    }
   ],
   "source": [
    "rows_with_nulls3 = df_trans3[df_trans3.isnull().any(axis=1)]\n",
    "print(rows_with_nulls3)"
   ]
  },
  {
   "cell_type": "code",
   "execution_count": 11,
   "metadata": {},
   "outputs": [
    {
     "data": {
      "text/plain": [
       "['01-02-2019', '12-31-2021']"
      ]
     },
     "execution_count": 11,
     "metadata": {},
     "output_type": "execute_result"
    }
   ],
   "source": [
    "min_date = df_trans3['date'].min()\n",
    "max_date = df_trans3['date'].max()\n",
    "list = [min_date, max_date]\n",
    "list"
   ]
  },
  {
   "cell_type": "markdown",
   "metadata": {},
   "source": [
    "Location 3 seems to be operating from 1/2/2019 to 12/31/2021 with 8,059 transactions. It has one null profit on 2/10/2020."
   ]
  },
  {
   "cell_type": "code",
   "execution_count": 12,
   "metadata": {},
   "outputs": [
    {
     "data": {
      "text/html": [
       "<div>\n",
       "<style scoped>\n",
       "    .dataframe tbody tr th:only-of-type {\n",
       "        vertical-align: middle;\n",
       "    }\n",
       "\n",
       "    .dataframe tbody tr th {\n",
       "        vertical-align: top;\n",
       "    }\n",
       "\n",
       "    .dataframe thead th {\n",
       "        text-align: right;\n",
       "    }\n",
       "</style>\n",
       "<table border=\"1\" class=\"dataframe\">\n",
       "  <thead>\n",
       "    <tr style=\"text-align: right;\">\n",
       "      <th></th>\n",
       "      <th>location_id</th>\n",
       "      <th>date</th>\n",
       "      <th>transaction_id</th>\n",
       "      <th>profit</th>\n",
       "    </tr>\n",
       "  </thead>\n",
       "  <tbody>\n",
       "    <tr>\n",
       "      <th>0</th>\n",
       "      <td>4</td>\n",
       "      <td>01-02-2019</td>\n",
       "      <td>1</td>\n",
       "      <td>0029.31</td>\n",
       "    </tr>\n",
       "    <tr>\n",
       "      <th>1</th>\n",
       "      <td>4</td>\n",
       "      <td>01-02-2019</td>\n",
       "      <td>2</td>\n",
       "      <td>00028.6</td>\n",
       "    </tr>\n",
       "    <tr>\n",
       "      <th>2</th>\n",
       "      <td>4</td>\n",
       "      <td>01-02-2019</td>\n",
       "      <td>3</td>\n",
       "      <td>0032.76</td>\n",
       "    </tr>\n",
       "    <tr>\n",
       "      <th>3</th>\n",
       "      <td>4</td>\n",
       "      <td>01-02-2019</td>\n",
       "      <td>4</td>\n",
       "      <td>0028.84</td>\n",
       "    </tr>\n",
       "    <tr>\n",
       "      <th>4</th>\n",
       "      <td>4</td>\n",
       "      <td>01-02-2019</td>\n",
       "      <td>5</td>\n",
       "      <td>0032.72</td>\n",
       "    </tr>\n",
       "    <tr>\n",
       "      <th>...</th>\n",
       "      <td>...</td>\n",
       "      <td>...</td>\n",
       "      <td>...</td>\n",
       "      <td>...</td>\n",
       "    </tr>\n",
       "    <tr>\n",
       "      <th>6644</th>\n",
       "      <td>4</td>\n",
       "      <td>09-11-2022</td>\n",
       "      <td>8</td>\n",
       "      <td>00031.1</td>\n",
       "    </tr>\n",
       "    <tr>\n",
       "      <th>6645</th>\n",
       "      <td>4</td>\n",
       "      <td>09-11-2022</td>\n",
       "      <td>9</td>\n",
       "      <td>0030.45</td>\n",
       "    </tr>\n",
       "    <tr>\n",
       "      <th>6646</th>\n",
       "      <td>4</td>\n",
       "      <td>09-11-2022</td>\n",
       "      <td>10</td>\n",
       "      <td>0032.84</td>\n",
       "    </tr>\n",
       "    <tr>\n",
       "      <th>6647</th>\n",
       "      <td>4</td>\n",
       "      <td>09-11-2022</td>\n",
       "      <td>11</td>\n",
       "      <td>0030.32</td>\n",
       "    </tr>\n",
       "    <tr>\n",
       "      <th>6648</th>\n",
       "      <td>4</td>\n",
       "      <td>09-11-2022</td>\n",
       "      <td>12</td>\n",
       "      <td>0029.65</td>\n",
       "    </tr>\n",
       "  </tbody>\n",
       "</table>\n",
       "<p>6649 rows × 4 columns</p>\n",
       "</div>"
      ],
      "text/plain": [
       "      location_id        date  transaction_id   profit\n",
       "0               4  01-02-2019               1  0029.31\n",
       "1               4  01-02-2019               2  00028.6\n",
       "2               4  01-02-2019               3  0032.76\n",
       "3               4  01-02-2019               4  0028.84\n",
       "4               4  01-02-2019               5  0032.72\n",
       "...           ...         ...             ...      ...\n",
       "6644            4  09-11-2022               8  00031.1\n",
       "6645            4  09-11-2022               9  0030.45\n",
       "6646            4  09-11-2022              10  0032.84\n",
       "6647            4  09-11-2022              11  0030.32\n",
       "6648            4  09-11-2022              12  0029.65\n",
       "\n",
       "[6649 rows x 4 columns]"
      ]
     },
     "execution_count": 12,
     "metadata": {},
     "output_type": "execute_result"
    }
   ],
   "source": [
    "df_trans4 = pd.read_csv('../data/transactions_004_system2.txt', sep='\\t')\n",
    "df_trans4"
   ]
  },
  {
   "cell_type": "code",
   "execution_count": 13,
   "metadata": {},
   "outputs": [
    {
     "name": "stdout",
     "output_type": "stream",
     "text": [
      "      location_id        date  transaction_id profit\n",
      "2186            4  02-07-2020               1    NaN\n",
      "2215            4  02-14-2020               1    NaN\n",
      "2307            4  05-28-2020               1    NaN\n",
      "2309            4  05-30-2020               1    NaN\n",
      "3489            4  02-05-2021               1    NaN\n",
      "3545            4  02-17-2021               1    NaN\n"
     ]
    }
   ],
   "source": [
    "rows_with_nulls4 = df_trans4[df_trans4.isnull().any(axis=1)]\n",
    "print(rows_with_nulls4)"
   ]
  },
  {
   "cell_type": "code",
   "execution_count": 14,
   "metadata": {},
   "outputs": [
    {
     "data": {
      "text/plain": [
       "['01-02-2019', '12-31-2021']"
      ]
     },
     "execution_count": 14,
     "metadata": {},
     "output_type": "execute_result"
    }
   ],
   "source": [
    "min_date = df_trans4['date'].min()\n",
    "max_date = df_trans4['date'].max()\n",
    "list = [min_date, max_date]\n",
    "list"
   ]
  },
  {
   "cell_type": "markdown",
   "metadata": {},
   "source": [
    "Location 4 seems to be operating from 1/2/2019 to 12/31/2021 with 6,649 transactions. It has 6 null profits mostly from February and May."
   ]
  },
  {
   "cell_type": "code",
   "execution_count": 15,
   "metadata": {},
   "outputs": [
    {
     "data": {
      "text/html": [
       "<div>\n",
       "<style scoped>\n",
       "    .dataframe tbody tr th:only-of-type {\n",
       "        vertical-align: middle;\n",
       "    }\n",
       "\n",
       "    .dataframe tbody tr th {\n",
       "        vertical-align: top;\n",
       "    }\n",
       "\n",
       "    .dataframe thead th {\n",
       "        text-align: right;\n",
       "    }\n",
       "</style>\n",
       "<table border=\"1\" class=\"dataframe\">\n",
       "  <thead>\n",
       "    <tr style=\"text-align: right;\">\n",
       "      <th></th>\n",
       "      <th>location_id</th>\n",
       "      <th>date</th>\n",
       "      <th>transaction_id</th>\n",
       "      <th>profit</th>\n",
       "    </tr>\n",
       "  </thead>\n",
       "  <tbody>\n",
       "    <tr>\n",
       "      <th>0</th>\n",
       "      <td>5</td>\n",
       "      <td>2019-01-02</td>\n",
       "      <td>1</td>\n",
       "      <td>25.29</td>\n",
       "    </tr>\n",
       "    <tr>\n",
       "      <th>1</th>\n",
       "      <td>5</td>\n",
       "      <td>2019-01-02</td>\n",
       "      <td>2</td>\n",
       "      <td>27.09</td>\n",
       "    </tr>\n",
       "    <tr>\n",
       "      <th>2</th>\n",
       "      <td>5</td>\n",
       "      <td>2019-01-02</td>\n",
       "      <td>3</td>\n",
       "      <td>28.07</td>\n",
       "    </tr>\n",
       "    <tr>\n",
       "      <th>3</th>\n",
       "      <td>5</td>\n",
       "      <td>2019-01-02</td>\n",
       "      <td>4</td>\n",
       "      <td>29.30</td>\n",
       "    </tr>\n",
       "    <tr>\n",
       "      <th>4</th>\n",
       "      <td>5</td>\n",
       "      <td>2019-01-02</td>\n",
       "      <td>5</td>\n",
       "      <td>32.00</td>\n",
       "    </tr>\n",
       "    <tr>\n",
       "      <th>...</th>\n",
       "      <td>...</td>\n",
       "      <td>...</td>\n",
       "      <td>...</td>\n",
       "      <td>...</td>\n",
       "    </tr>\n",
       "    <tr>\n",
       "      <th>7473</th>\n",
       "      <td>5</td>\n",
       "      <td>2022-09-11</td>\n",
       "      <td>7</td>\n",
       "      <td>27.17</td>\n",
       "    </tr>\n",
       "    <tr>\n",
       "      <th>7474</th>\n",
       "      <td>5</td>\n",
       "      <td>2022-09-11</td>\n",
       "      <td>8</td>\n",
       "      <td>25.60</td>\n",
       "    </tr>\n",
       "    <tr>\n",
       "      <th>7475</th>\n",
       "      <td>5</td>\n",
       "      <td>2022-09-11</td>\n",
       "      <td>9</td>\n",
       "      <td>25.43</td>\n",
       "    </tr>\n",
       "    <tr>\n",
       "      <th>7476</th>\n",
       "      <td>5</td>\n",
       "      <td>2022-09-11</td>\n",
       "      <td>10</td>\n",
       "      <td>28.50</td>\n",
       "    </tr>\n",
       "    <tr>\n",
       "      <th>7477</th>\n",
       "      <td>5</td>\n",
       "      <td>2022-09-11</td>\n",
       "      <td>11</td>\n",
       "      <td>23.62</td>\n",
       "    </tr>\n",
       "  </tbody>\n",
       "</table>\n",
       "<p>7478 rows × 4 columns</p>\n",
       "</div>"
      ],
      "text/plain": [
       "      location_id       date  transaction_id  profit\n",
       "0               5 2019-01-02               1   25.29\n",
       "1               5 2019-01-02               2   27.09\n",
       "2               5 2019-01-02               3   28.07\n",
       "3               5 2019-01-02               4   29.30\n",
       "4               5 2019-01-02               5   32.00\n",
       "...           ...        ...             ...     ...\n",
       "7473            5 2022-09-11               7   27.17\n",
       "7474            5 2022-09-11               8   25.60\n",
       "7475            5 2022-09-11               9   25.43\n",
       "7476            5 2022-09-11              10   28.50\n",
       "7477            5 2022-09-11              11   23.62\n",
       "\n",
       "[7478 rows x 4 columns]"
      ]
     },
     "execution_count": 15,
     "metadata": {},
     "output_type": "execute_result"
    }
   ],
   "source": [
    "df_trans5 = pd.read_json('../data/transactions_005_system3.json')\n",
    "df_trans5"
   ]
  },
  {
   "cell_type": "code",
   "execution_count": 16,
   "metadata": {},
   "outputs": [
    {
     "name": "stdout",
     "output_type": "stream",
     "text": [
      "      location_id       date  transaction_id  profit\n",
      "539             5 2019-02-26               1     NaN\n",
      "2465            5 2020-02-17               1     NaN\n",
      "2545            5 2020-05-28               1     NaN\n",
      "2564            5 2020-06-01               1     NaN\n",
      "3993            5 2021-02-03               1     NaN\n"
     ]
    }
   ],
   "source": [
    "rows_with_nulls5 = df_trans5[df_trans5.isnull().any(axis=1)]\n",
    "print(rows_with_nulls5)"
   ]
  },
  {
   "cell_type": "code",
   "execution_count": 17,
   "metadata": {},
   "outputs": [
    {
     "data": {
      "text/plain": [
       "[Timestamp('2019-01-02 00:00:00'),\n",
       " Timestamp('2022-09-11 00:00:00'),\n",
       " -33.42,\n",
       " 35.45]"
      ]
     },
     "execution_count": 17,
     "metadata": {},
     "output_type": "execute_result"
    }
   ],
   "source": [
    "min_date = df_trans5['date'].min()\n",
    "max_date = df_trans5['date'].max()\n",
    "min_profit = df_trans5['profit'].min()\n",
    "max_profit = df_trans5['profit'].max()\n",
    "list = [min_date, max_date, min_profit, max_profit]\n",
    "list"
   ]
  },
  {
   "cell_type": "markdown",
   "metadata": {},
   "source": [
    "Location 5 seems to be operating from 1/2/2019 to 9/11/2022 with 7,478 transactions. It's highest profit is \\$35.45 and lowest is \\$-33.42. It has five null profits from February, May, and June."
   ]
  },
  {
   "cell_type": "code",
   "execution_count": 18,
   "metadata": {},
   "outputs": [
    {
     "data": {
      "text/html": [
       "<div>\n",
       "<style scoped>\n",
       "    .dataframe tbody tr th:only-of-type {\n",
       "        vertical-align: middle;\n",
       "    }\n",
       "\n",
       "    .dataframe tbody tr th {\n",
       "        vertical-align: top;\n",
       "    }\n",
       "\n",
       "    .dataframe thead th {\n",
       "        text-align: right;\n",
       "    }\n",
       "</style>\n",
       "<table border=\"1\" class=\"dataframe\">\n",
       "  <thead>\n",
       "    <tr style=\"text-align: right;\">\n",
       "      <th></th>\n",
       "      <th>location_id</th>\n",
       "      <th>date</th>\n",
       "      <th>transaction_id</th>\n",
       "      <th>profit</th>\n",
       "    </tr>\n",
       "  </thead>\n",
       "  <tbody>\n",
       "    <tr>\n",
       "      <th>0</th>\n",
       "      <td>6</td>\n",
       "      <td>01-02-2019</td>\n",
       "      <td>1</td>\n",
       "      <td>0027.58</td>\n",
       "    </tr>\n",
       "    <tr>\n",
       "      <th>1</th>\n",
       "      <td>6</td>\n",
       "      <td>01-02-2019</td>\n",
       "      <td>2</td>\n",
       "      <td>0026.31</td>\n",
       "    </tr>\n",
       "    <tr>\n",
       "      <th>2</th>\n",
       "      <td>6</td>\n",
       "      <td>01-02-2019</td>\n",
       "      <td>3</td>\n",
       "      <td>0029.68</td>\n",
       "    </tr>\n",
       "    <tr>\n",
       "      <th>3</th>\n",
       "      <td>6</td>\n",
       "      <td>01-02-2019</td>\n",
       "      <td>4</td>\n",
       "      <td>0028.94</td>\n",
       "    </tr>\n",
       "    <tr>\n",
       "      <th>4</th>\n",
       "      <td>6</td>\n",
       "      <td>01-02-2019</td>\n",
       "      <td>5</td>\n",
       "      <td>0027.87</td>\n",
       "    </tr>\n",
       "    <tr>\n",
       "      <th>...</th>\n",
       "      <td>...</td>\n",
       "      <td>...</td>\n",
       "      <td>...</td>\n",
       "      <td>...</td>\n",
       "    </tr>\n",
       "    <tr>\n",
       "      <th>7911</th>\n",
       "      <td>6</td>\n",
       "      <td>09-11-2022</td>\n",
       "      <td>8</td>\n",
       "      <td>0026.36</td>\n",
       "    </tr>\n",
       "    <tr>\n",
       "      <th>7912</th>\n",
       "      <td>6</td>\n",
       "      <td>09-11-2022</td>\n",
       "      <td>9</td>\n",
       "      <td>0030.68</td>\n",
       "    </tr>\n",
       "    <tr>\n",
       "      <th>7913</th>\n",
       "      <td>6</td>\n",
       "      <td>09-11-2022</td>\n",
       "      <td>10</td>\n",
       "      <td>0026.25</td>\n",
       "    </tr>\n",
       "    <tr>\n",
       "      <th>7914</th>\n",
       "      <td>6</td>\n",
       "      <td>09-11-2022</td>\n",
       "      <td>11</td>\n",
       "      <td>0028.26</td>\n",
       "    </tr>\n",
       "    <tr>\n",
       "      <th>7915</th>\n",
       "      <td>6</td>\n",
       "      <td>09-11-2022</td>\n",
       "      <td>12</td>\n",
       "      <td>0032.85</td>\n",
       "    </tr>\n",
       "  </tbody>\n",
       "</table>\n",
       "<p>7916 rows × 4 columns</p>\n",
       "</div>"
      ],
      "text/plain": [
       "      location_id        date  transaction_id   profit\n",
       "0               6  01-02-2019               1  0027.58\n",
       "1               6  01-02-2019               2  0026.31\n",
       "2               6  01-02-2019               3  0029.68\n",
       "3               6  01-02-2019               4  0028.94\n",
       "4               6  01-02-2019               5  0027.87\n",
       "...           ...         ...             ...      ...\n",
       "7911            6  09-11-2022               8  0026.36\n",
       "7912            6  09-11-2022               9  0030.68\n",
       "7913            6  09-11-2022              10  0026.25\n",
       "7914            6  09-11-2022              11  0028.26\n",
       "7915            6  09-11-2022              12  0032.85\n",
       "\n",
       "[7916 rows x 4 columns]"
      ]
     },
     "execution_count": 18,
     "metadata": {},
     "output_type": "execute_result"
    }
   ],
   "source": [
    "df_trans6 = pd.read_csv('../data/transactions_006_system2.txt', sep='\\t')\n",
    "df_trans6"
   ]
  },
  {
   "cell_type": "code",
   "execution_count": 19,
   "metadata": {},
   "outputs": [
    {
     "name": "stdout",
     "output_type": "stream",
     "text": [
      "      location_id        date  transaction_id profit\n",
      "2706            6  02-05-2020               1    NaN\n",
      "2836            6  05-28-2020               1    NaN\n",
      "4309            6  02-10-2021               1    NaN\n"
     ]
    }
   ],
   "source": [
    "rows_with_nulls6 = df_trans6[df_trans6.isnull().any(axis=1)]\n",
    "print(rows_with_nulls6)"
   ]
  },
  {
   "cell_type": "code",
   "execution_count": 20,
   "metadata": {},
   "outputs": [
    {
     "data": {
      "text/plain": [
       "['01-02-2019', '12-31-2021']"
      ]
     },
     "execution_count": 20,
     "metadata": {},
     "output_type": "execute_result"
    }
   ],
   "source": [
    "min_date = df_trans6['date'].min()\n",
    "max_date = df_trans6['date'].max()\n",
    "list = [min_date, max_date]\n",
    "list"
   ]
  },
  {
   "cell_type": "markdown",
   "metadata": {},
   "source": [
    "Location 6 seems to be operating from 1/2/2019 to 12/31/2021 with 7,916 transactions. It has three null profits on 2/5/2020, 5/28/2021, and 2/10/2021."
   ]
  },
  {
   "cell_type": "code",
   "execution_count": 21,
   "metadata": {},
   "outputs": [
    {
     "data": {
      "text/html": [
       "<div>\n",
       "<style scoped>\n",
       "    .dataframe tbody tr th:only-of-type {\n",
       "        vertical-align: middle;\n",
       "    }\n",
       "\n",
       "    .dataframe tbody tr th {\n",
       "        vertical-align: top;\n",
       "    }\n",
       "\n",
       "    .dataframe thead th {\n",
       "        text-align: right;\n",
       "    }\n",
       "</style>\n",
       "<table border=\"1\" class=\"dataframe\">\n",
       "  <thead>\n",
       "    <tr style=\"text-align: right;\">\n",
       "      <th></th>\n",
       "      <th>location_id</th>\n",
       "      <th>date</th>\n",
       "      <th>transaction_id</th>\n",
       "      <th>profit</th>\n",
       "    </tr>\n",
       "  </thead>\n",
       "  <tbody>\n",
       "    <tr>\n",
       "      <th>0</th>\n",
       "      <td>7</td>\n",
       "      <td>01-02-2019</td>\n",
       "      <td>1</td>\n",
       "      <td>0020.55</td>\n",
       "    </tr>\n",
       "    <tr>\n",
       "      <th>1</th>\n",
       "      <td>7</td>\n",
       "      <td>01-02-2019</td>\n",
       "      <td>2</td>\n",
       "      <td>0021.45</td>\n",
       "    </tr>\n",
       "    <tr>\n",
       "      <th>2</th>\n",
       "      <td>7</td>\n",
       "      <td>01-02-2019</td>\n",
       "      <td>3</td>\n",
       "      <td>0023.44</td>\n",
       "    </tr>\n",
       "    <tr>\n",
       "      <th>3</th>\n",
       "      <td>7</td>\n",
       "      <td>01-02-2019</td>\n",
       "      <td>4</td>\n",
       "      <td>0024.63</td>\n",
       "    </tr>\n",
       "    <tr>\n",
       "      <th>4</th>\n",
       "      <td>7</td>\n",
       "      <td>01-02-2019</td>\n",
       "      <td>5</td>\n",
       "      <td>0017.71</td>\n",
       "    </tr>\n",
       "    <tr>\n",
       "      <th>...</th>\n",
       "      <td>...</td>\n",
       "      <td>...</td>\n",
       "      <td>...</td>\n",
       "      <td>...</td>\n",
       "    </tr>\n",
       "    <tr>\n",
       "      <th>10040</th>\n",
       "      <td>7</td>\n",
       "      <td>09-10-2022</td>\n",
       "      <td>12</td>\n",
       "      <td>0023.44</td>\n",
       "    </tr>\n",
       "    <tr>\n",
       "      <th>10041</th>\n",
       "      <td>7</td>\n",
       "      <td>09-11-2022</td>\n",
       "      <td>1</td>\n",
       "      <td>0021.56</td>\n",
       "    </tr>\n",
       "    <tr>\n",
       "      <th>10042</th>\n",
       "      <td>7</td>\n",
       "      <td>09-11-2022</td>\n",
       "      <td>2</td>\n",
       "      <td>0023.93</td>\n",
       "    </tr>\n",
       "    <tr>\n",
       "      <th>10043</th>\n",
       "      <td>7</td>\n",
       "      <td>09-11-2022</td>\n",
       "      <td>3</td>\n",
       "      <td>0025.36</td>\n",
       "    </tr>\n",
       "    <tr>\n",
       "      <th>10044</th>\n",
       "      <td>7</td>\n",
       "      <td>09-11-2022</td>\n",
       "      <td>4</td>\n",
       "      <td>0025.14</td>\n",
       "    </tr>\n",
       "  </tbody>\n",
       "</table>\n",
       "<p>10045 rows × 4 columns</p>\n",
       "</div>"
      ],
      "text/plain": [
       "       location_id        date  transaction_id   profit\n",
       "0                7  01-02-2019               1  0020.55\n",
       "1                7  01-02-2019               2  0021.45\n",
       "2                7  01-02-2019               3  0023.44\n",
       "3                7  01-02-2019               4  0024.63\n",
       "4                7  01-02-2019               5  0017.71\n",
       "...            ...         ...             ...      ...\n",
       "10040            7  09-10-2022              12  0023.44\n",
       "10041            7  09-11-2022               1  0021.56\n",
       "10042            7  09-11-2022               2  0023.93\n",
       "10043            7  09-11-2022               3  0025.36\n",
       "10044            7  09-11-2022               4  0025.14\n",
       "\n",
       "[10045 rows x 4 columns]"
      ]
     },
     "execution_count": 21,
     "metadata": {},
     "output_type": "execute_result"
    }
   ],
   "source": [
    "df_trans7 = pd.read_csv('../data/transactions_007_system2.txt', sep='\\t')\n",
    "df_trans7"
   ]
  },
  {
   "cell_type": "code",
   "execution_count": 22,
   "metadata": {},
   "outputs": [
    {
     "name": "stdout",
     "output_type": "stream",
     "text": [
      "      location_id        date  transaction_id profit\n",
      "3760            7  02-17-2020               1    NaN\n",
      "3984            7  05-28-2020               1    NaN\n",
      "3985            7  05-29-2020               1    NaN\n",
      "5755            7  02-15-2021               1    NaN\n",
      "5757            7  02-17-2021               1    NaN\n",
      "5758            7  02-18-2021               1    NaN\n"
     ]
    }
   ],
   "source": [
    "rows_with_nulls7 = df_trans7[df_trans7.isnull().any(axis=1)]\n",
    "print(rows_with_nulls7)"
   ]
  },
  {
   "cell_type": "code",
   "execution_count": 23,
   "metadata": {},
   "outputs": [
    {
     "data": {
      "text/plain": [
       "['01-02-2019', '12-31-2021']"
      ]
     },
     "execution_count": 23,
     "metadata": {},
     "output_type": "execute_result"
    }
   ],
   "source": [
    "min_date = df_trans7['date'].min()\n",
    "max_date = df_trans7['date'].max()\n",
    "list = [min_date, max_date]\n",
    "list"
   ]
  },
  {
   "cell_type": "markdown",
   "metadata": {},
   "source": [
    "Location 7 seems to be operating from 1/2/2019 to 12/31/2021 with 10,045 transactions. It has six null profits in February and May."
   ]
  },
  {
   "cell_type": "code",
   "execution_count": 24,
   "metadata": {},
   "outputs": [
    {
     "data": {
      "text/html": [
       "<div>\n",
       "<style scoped>\n",
       "    .dataframe tbody tr th:only-of-type {\n",
       "        vertical-align: middle;\n",
       "    }\n",
       "\n",
       "    .dataframe tbody tr th {\n",
       "        vertical-align: top;\n",
       "    }\n",
       "\n",
       "    .dataframe thead th {\n",
       "        text-align: right;\n",
       "    }\n",
       "</style>\n",
       "<table border=\"1\" class=\"dataframe\">\n",
       "  <thead>\n",
       "    <tr style=\"text-align: right;\">\n",
       "      <th></th>\n",
       "      <th>location_id</th>\n",
       "      <th>date</th>\n",
       "      <th>transaction_id</th>\n",
       "      <th>profit</th>\n",
       "    </tr>\n",
       "  </thead>\n",
       "  <tbody>\n",
       "    <tr>\n",
       "      <th>0</th>\n",
       "      <td>8</td>\n",
       "      <td>01/02/2019</td>\n",
       "      <td>1</td>\n",
       "      <td>$26.89</td>\n",
       "    </tr>\n",
       "    <tr>\n",
       "      <th>1</th>\n",
       "      <td>8</td>\n",
       "      <td>01/02/2019</td>\n",
       "      <td>2</td>\n",
       "      <td>$24.74</td>\n",
       "    </tr>\n",
       "    <tr>\n",
       "      <th>2</th>\n",
       "      <td>8</td>\n",
       "      <td>01/02/2019</td>\n",
       "      <td>3</td>\n",
       "      <td>$31.36</td>\n",
       "    </tr>\n",
       "    <tr>\n",
       "      <th>3</th>\n",
       "      <td>8</td>\n",
       "      <td>01/02/2019</td>\n",
       "      <td>4</td>\n",
       "      <td>$27.06</td>\n",
       "    </tr>\n",
       "    <tr>\n",
       "      <th>4</th>\n",
       "      <td>8</td>\n",
       "      <td>01/02/2019</td>\n",
       "      <td>5</td>\n",
       "      <td>$29.51</td>\n",
       "    </tr>\n",
       "    <tr>\n",
       "      <th>...</th>\n",
       "      <td>...</td>\n",
       "      <td>...</td>\n",
       "      <td>...</td>\n",
       "      <td>...</td>\n",
       "    </tr>\n",
       "    <tr>\n",
       "      <th>8501</th>\n",
       "      <td>8</td>\n",
       "      <td>09/11/2022</td>\n",
       "      <td>9</td>\n",
       "      <td>$26.60</td>\n",
       "    </tr>\n",
       "    <tr>\n",
       "      <th>8502</th>\n",
       "      <td>8</td>\n",
       "      <td>09/11/2022</td>\n",
       "      <td>10</td>\n",
       "      <td>$25.60</td>\n",
       "    </tr>\n",
       "    <tr>\n",
       "      <th>8503</th>\n",
       "      <td>8</td>\n",
       "      <td>09/11/2022</td>\n",
       "      <td>11</td>\n",
       "      <td>$28.38</td>\n",
       "    </tr>\n",
       "    <tr>\n",
       "      <th>8504</th>\n",
       "      <td>8</td>\n",
       "      <td>09/11/2022</td>\n",
       "      <td>12</td>\n",
       "      <td>$29.19</td>\n",
       "    </tr>\n",
       "    <tr>\n",
       "      <th>8505</th>\n",
       "      <td>8</td>\n",
       "      <td>09/11/2022</td>\n",
       "      <td>13</td>\n",
       "      <td>$25.86</td>\n",
       "    </tr>\n",
       "  </tbody>\n",
       "</table>\n",
       "<p>8506 rows × 4 columns</p>\n",
       "</div>"
      ],
      "text/plain": [
       "      location_id        date  transaction_id  profit\n",
       "0               8  01/02/2019               1  $26.89\n",
       "1               8  01/02/2019               2  $24.74\n",
       "2               8  01/02/2019               3  $31.36\n",
       "3               8  01/02/2019               4  $27.06\n",
       "4               8  01/02/2019               5  $29.51\n",
       "...           ...         ...             ...     ...\n",
       "8501            8  09/11/2022               9  $26.60\n",
       "8502            8  09/11/2022              10  $25.60\n",
       "8503            8  09/11/2022              11  $28.38\n",
       "8504            8  09/11/2022              12  $29.19\n",
       "8505            8  09/11/2022              13  $25.86\n",
       "\n",
       "[8506 rows x 4 columns]"
      ]
     },
     "execution_count": 24,
     "metadata": {},
     "output_type": "execute_result"
    }
   ],
   "source": [
    "df_trans8 = pd.read_csv('../data/transactions_008_system1.csv')\n",
    "df_trans8"
   ]
  },
  {
   "cell_type": "code",
   "execution_count": 25,
   "metadata": {},
   "outputs": [
    {
     "data": {
      "text/plain": [
       "location_id        int64\n",
       "date              object\n",
       "transaction_id     int64\n",
       "profit            object\n",
       "dtype: object"
      ]
     },
     "execution_count": 25,
     "metadata": {},
     "output_type": "execute_result"
    }
   ],
   "source": [
    "df_trans8.dtypes"
   ]
  },
  {
   "cell_type": "code",
   "execution_count": 26,
   "metadata": {},
   "outputs": [
    {
     "name": "stdout",
     "output_type": "stream",
     "text": [
      "Empty DataFrame\n",
      "Columns: [location_id, date, transaction_id, profit]\n",
      "Index: []\n"
     ]
    }
   ],
   "source": [
    "rows_with_nulls8 = df_trans8[df_trans8.isnull().any(axis=1)]\n",
    "print(rows_with_nulls8)"
   ]
  },
  {
   "cell_type": "code",
   "execution_count": 27,
   "metadata": {},
   "outputs": [
    {
     "data": {
      "text/plain": [
       "['01/02/2019', '12/31/2021', '$-16.78', '$38.19']"
      ]
     },
     "execution_count": 27,
     "metadata": {},
     "output_type": "execute_result"
    }
   ],
   "source": [
    "min_date = df_trans8['date'].min()\n",
    "max_date = df_trans8['date'].max()\n",
    "min_profit = df_trans8['profit'].min()\n",
    "max_profit = df_trans8['profit'].max()\n",
    "list = [min_date, max_date, min_profit, max_profit]\n",
    "list"
   ]
  },
  {
   "cell_type": "markdown",
   "metadata": {},
   "source": [
    "Location 8 seems to be operating from 1/2/2019 to 12/31/2021 with 8,506 transactions. It has no null values."
   ]
  },
  {
   "cell_type": "code",
   "execution_count": 28,
   "metadata": {},
   "outputs": [
    {
     "data": {
      "text/html": [
       "<div>\n",
       "<style scoped>\n",
       "    .dataframe tbody tr th:only-of-type {\n",
       "        vertical-align: middle;\n",
       "    }\n",
       "\n",
       "    .dataframe tbody tr th {\n",
       "        vertical-align: top;\n",
       "    }\n",
       "\n",
       "    .dataframe thead th {\n",
       "        text-align: right;\n",
       "    }\n",
       "</style>\n",
       "<table border=\"1\" class=\"dataframe\">\n",
       "  <thead>\n",
       "    <tr style=\"text-align: right;\">\n",
       "      <th></th>\n",
       "      <th>location_id</th>\n",
       "      <th>date</th>\n",
       "      <th>transaction_id</th>\n",
       "      <th>profit</th>\n",
       "    </tr>\n",
       "  </thead>\n",
       "  <tbody>\n",
       "    <tr>\n",
       "      <th>0</th>\n",
       "      <td>9</td>\n",
       "      <td>01-02-2019</td>\n",
       "      <td>1</td>\n",
       "      <td>0024.67</td>\n",
       "    </tr>\n",
       "    <tr>\n",
       "      <th>1</th>\n",
       "      <td>9</td>\n",
       "      <td>01-02-2019</td>\n",
       "      <td>2</td>\n",
       "      <td>0022.99</td>\n",
       "    </tr>\n",
       "    <tr>\n",
       "      <th>2</th>\n",
       "      <td>9</td>\n",
       "      <td>01-02-2019</td>\n",
       "      <td>3</td>\n",
       "      <td>0022.81</td>\n",
       "    </tr>\n",
       "    <tr>\n",
       "      <th>3</th>\n",
       "      <td>9</td>\n",
       "      <td>01-02-2019</td>\n",
       "      <td>4</td>\n",
       "      <td>0021.76</td>\n",
       "    </tr>\n",
       "    <tr>\n",
       "      <th>4</th>\n",
       "      <td>9</td>\n",
       "      <td>01-02-2019</td>\n",
       "      <td>5</td>\n",
       "      <td>0026.45</td>\n",
       "    </tr>\n",
       "    <tr>\n",
       "      <th>...</th>\n",
       "      <td>...</td>\n",
       "      <td>...</td>\n",
       "      <td>...</td>\n",
       "      <td>...</td>\n",
       "    </tr>\n",
       "    <tr>\n",
       "      <th>9493</th>\n",
       "      <td>9</td>\n",
       "      <td>09-11-2022</td>\n",
       "      <td>11</td>\n",
       "      <td>0026.11</td>\n",
       "    </tr>\n",
       "    <tr>\n",
       "      <th>9494</th>\n",
       "      <td>9</td>\n",
       "      <td>09-11-2022</td>\n",
       "      <td>12</td>\n",
       "      <td>0024.57</td>\n",
       "    </tr>\n",
       "    <tr>\n",
       "      <th>9495</th>\n",
       "      <td>9</td>\n",
       "      <td>09-11-2022</td>\n",
       "      <td>13</td>\n",
       "      <td>0023.45</td>\n",
       "    </tr>\n",
       "    <tr>\n",
       "      <th>9496</th>\n",
       "      <td>9</td>\n",
       "      <td>09-11-2022</td>\n",
       "      <td>14</td>\n",
       "      <td>0023.18</td>\n",
       "    </tr>\n",
       "    <tr>\n",
       "      <th>9497</th>\n",
       "      <td>9</td>\n",
       "      <td>09-11-2022</td>\n",
       "      <td>15</td>\n",
       "      <td>0023.68</td>\n",
       "    </tr>\n",
       "  </tbody>\n",
       "</table>\n",
       "<p>9498 rows × 4 columns</p>\n",
       "</div>"
      ],
      "text/plain": [
       "      location_id        date  transaction_id   profit\n",
       "0               9  01-02-2019               1  0024.67\n",
       "1               9  01-02-2019               2  0022.99\n",
       "2               9  01-02-2019               3  0022.81\n",
       "3               9  01-02-2019               4  0021.76\n",
       "4               9  01-02-2019               5  0026.45\n",
       "...           ...         ...             ...      ...\n",
       "9493            9  09-11-2022              11  0026.11\n",
       "9494            9  09-11-2022              12  0024.57\n",
       "9495            9  09-11-2022              13  0023.45\n",
       "9496            9  09-11-2022              14  0023.18\n",
       "9497            9  09-11-2022              15  0023.68\n",
       "\n",
       "[9498 rows x 4 columns]"
      ]
     },
     "execution_count": 28,
     "metadata": {},
     "output_type": "execute_result"
    }
   ],
   "source": [
    "df_trans9 = pd.read_csv('../data/transactions_009_system2.txt', sep='\\t')\n",
    "df_trans9"
   ]
  },
  {
   "cell_type": "code",
   "execution_count": 29,
   "metadata": {},
   "outputs": [
    {
     "name": "stdout",
     "output_type": "stream",
     "text": [
      "Empty DataFrame\n",
      "Columns: [location_id, date, transaction_id, profit]\n",
      "Index: []\n"
     ]
    }
   ],
   "source": [
    "rows_with_nulls9 = df_trans9[df_trans9.isnull().any(axis=1)]\n",
    "print(rows_with_nulls9)"
   ]
  },
  {
   "cell_type": "code",
   "execution_count": 30,
   "metadata": {},
   "outputs": [
    {
     "data": {
      "text/plain": [
       "['01-02-2019', '12-31-2021']"
      ]
     },
     "execution_count": 30,
     "metadata": {},
     "output_type": "execute_result"
    }
   ],
   "source": [
    "min_date = df_trans9['date'].min()\n",
    "max_date = df_trans9['date'].max()\n",
    "list = [min_date, max_date]\n",
    "list"
   ]
  },
  {
   "cell_type": "markdown",
   "metadata": {},
   "source": [
    "Location 9 seems to be operating from 1/2/2019 to 12/31/2021 with 9,498 transactions. It has no null values."
   ]
  },
  {
   "cell_type": "code",
   "execution_count": 31,
   "metadata": {},
   "outputs": [
    {
     "data": {
      "text/html": [
       "<div>\n",
       "<style scoped>\n",
       "    .dataframe tbody tr th:only-of-type {\n",
       "        vertical-align: middle;\n",
       "    }\n",
       "\n",
       "    .dataframe tbody tr th {\n",
       "        vertical-align: top;\n",
       "    }\n",
       "\n",
       "    .dataframe thead th {\n",
       "        text-align: right;\n",
       "    }\n",
       "</style>\n",
       "<table border=\"1\" class=\"dataframe\">\n",
       "  <thead>\n",
       "    <tr style=\"text-align: right;\">\n",
       "      <th></th>\n",
       "      <th>location_id</th>\n",
       "      <th>date</th>\n",
       "      <th>transaction_id</th>\n",
       "      <th>profit</th>\n",
       "    </tr>\n",
       "  </thead>\n",
       "  <tbody>\n",
       "    <tr>\n",
       "      <th>0</th>\n",
       "      <td>10</td>\n",
       "      <td>2019-01-02</td>\n",
       "      <td>1</td>\n",
       "      <td>30.65</td>\n",
       "    </tr>\n",
       "    <tr>\n",
       "      <th>1</th>\n",
       "      <td>10</td>\n",
       "      <td>2019-01-02</td>\n",
       "      <td>2</td>\n",
       "      <td>28.02</td>\n",
       "    </tr>\n",
       "    <tr>\n",
       "      <th>2</th>\n",
       "      <td>10</td>\n",
       "      <td>2019-01-02</td>\n",
       "      <td>3</td>\n",
       "      <td>29.97</td>\n",
       "    </tr>\n",
       "    <tr>\n",
       "      <th>3</th>\n",
       "      <td>10</td>\n",
       "      <td>2019-01-02</td>\n",
       "      <td>4</td>\n",
       "      <td>27.84</td>\n",
       "    </tr>\n",
       "    <tr>\n",
       "      <th>4</th>\n",
       "      <td>10</td>\n",
       "      <td>2019-01-02</td>\n",
       "      <td>5</td>\n",
       "      <td>27.24</td>\n",
       "    </tr>\n",
       "    <tr>\n",
       "      <th>...</th>\n",
       "      <td>...</td>\n",
       "      <td>...</td>\n",
       "      <td>...</td>\n",
       "      <td>...</td>\n",
       "    </tr>\n",
       "    <tr>\n",
       "      <th>7485</th>\n",
       "      <td>10</td>\n",
       "      <td>2022-09-11</td>\n",
       "      <td>8</td>\n",
       "      <td>29.76</td>\n",
       "    </tr>\n",
       "    <tr>\n",
       "      <th>7486</th>\n",
       "      <td>10</td>\n",
       "      <td>2022-09-11</td>\n",
       "      <td>9</td>\n",
       "      <td>31.18</td>\n",
       "    </tr>\n",
       "    <tr>\n",
       "      <th>7487</th>\n",
       "      <td>10</td>\n",
       "      <td>2022-09-11</td>\n",
       "      <td>10</td>\n",
       "      <td>28.17</td>\n",
       "    </tr>\n",
       "    <tr>\n",
       "      <th>7488</th>\n",
       "      <td>10</td>\n",
       "      <td>2022-09-11</td>\n",
       "      <td>11</td>\n",
       "      <td>30.15</td>\n",
       "    </tr>\n",
       "    <tr>\n",
       "      <th>7489</th>\n",
       "      <td>10</td>\n",
       "      <td>2022-09-11</td>\n",
       "      <td>12</td>\n",
       "      <td>31.27</td>\n",
       "    </tr>\n",
       "  </tbody>\n",
       "</table>\n",
       "<p>7490 rows × 4 columns</p>\n",
       "</div>"
      ],
      "text/plain": [
       "      location_id       date  transaction_id  profit\n",
       "0              10 2019-01-02               1   30.65\n",
       "1              10 2019-01-02               2   28.02\n",
       "2              10 2019-01-02               3   29.97\n",
       "3              10 2019-01-02               4   27.84\n",
       "4              10 2019-01-02               5   27.24\n",
       "...           ...        ...             ...     ...\n",
       "7485           10 2022-09-11               8   29.76\n",
       "7486           10 2022-09-11               9   31.18\n",
       "7487           10 2022-09-11              10   28.17\n",
       "7488           10 2022-09-11              11   30.15\n",
       "7489           10 2022-09-11              12   31.27\n",
       "\n",
       "[7490 rows x 4 columns]"
      ]
     },
     "execution_count": 31,
     "metadata": {},
     "output_type": "execute_result"
    }
   ],
   "source": [
    "df_trans10 = pd.read_json('../data/transactions_010_system3.json')\n",
    "df_trans10"
   ]
  },
  {
   "cell_type": "code",
   "execution_count": 32,
   "metadata": {},
   "outputs": [
    {
     "name": "stdout",
     "output_type": "stream",
     "text": [
      "      location_id       date  transaction_id  profit\n",
      "4021           10 2021-02-02               1     NaN\n"
     ]
    }
   ],
   "source": [
    "rows_with_nulls10 = df_trans10[df_trans10.isnull().any(axis=1)]\n",
    "print(rows_with_nulls10)"
   ]
  },
  {
   "cell_type": "code",
   "execution_count": 33,
   "metadata": {},
   "outputs": [
    {
     "data": {
      "text/plain": [
       "[Timestamp('2019-01-02 00:00:00'),\n",
       " Timestamp('2022-09-11 00:00:00'),\n",
       " -30.67,\n",
       " 38.32]"
      ]
     },
     "execution_count": 33,
     "metadata": {},
     "output_type": "execute_result"
    }
   ],
   "source": [
    "min_date = df_trans10['date'].min()\n",
    "max_date = df_trans10['date'].max()\n",
    "min_profit = df_trans10['profit'].min()\n",
    "max_profit = df_trans10['profit'].max()\n",
    "list = [min_date, max_date, min_profit, max_profit]\n",
    "list"
   ]
  },
  {
   "cell_type": "markdown",
   "metadata": {},
   "source": [
    "Location 10 seems to be operating from 1/2/2019 to 9/11/2022 with 7,490 transactions. It has one null profit on 2/2/2021."
   ]
  },
  {
   "cell_type": "code",
   "execution_count": 34,
   "metadata": {},
   "outputs": [
    {
     "data": {
      "text/html": [
       "<div>\n",
       "<style scoped>\n",
       "    .dataframe tbody tr th:only-of-type {\n",
       "        vertical-align: middle;\n",
       "    }\n",
       "\n",
       "    .dataframe tbody tr th {\n",
       "        vertical-align: top;\n",
       "    }\n",
       "\n",
       "    .dataframe thead th {\n",
       "        text-align: right;\n",
       "    }\n",
       "</style>\n",
       "<table border=\"1\" class=\"dataframe\">\n",
       "  <thead>\n",
       "    <tr style=\"text-align: right;\">\n",
       "      <th></th>\n",
       "      <th>date</th>\n",
       "      <th>holiday</th>\n",
       "    </tr>\n",
       "  </thead>\n",
       "  <tbody>\n",
       "    <tr>\n",
       "      <th>0</th>\n",
       "      <td>2019-01-01</td>\n",
       "      <td>True</td>\n",
       "    </tr>\n",
       "    <tr>\n",
       "      <th>1</th>\n",
       "      <td>2019-05-27</td>\n",
       "      <td>True</td>\n",
       "    </tr>\n",
       "    <tr>\n",
       "      <th>2</th>\n",
       "      <td>2019-07-04</td>\n",
       "      <td>True</td>\n",
       "    </tr>\n",
       "    <tr>\n",
       "      <th>3</th>\n",
       "      <td>2019-09-02</td>\n",
       "      <td>True</td>\n",
       "    </tr>\n",
       "    <tr>\n",
       "      <th>4</th>\n",
       "      <td>2019-11-28</td>\n",
       "      <td>True</td>\n",
       "    </tr>\n",
       "    <tr>\n",
       "      <th>5</th>\n",
       "      <td>2019-12-25</td>\n",
       "      <td>True</td>\n",
       "    </tr>\n",
       "    <tr>\n",
       "      <th>6</th>\n",
       "      <td>2020-01-01</td>\n",
       "      <td>True</td>\n",
       "    </tr>\n",
       "    <tr>\n",
       "      <th>7</th>\n",
       "      <td>2020-05-25</td>\n",
       "      <td>True</td>\n",
       "    </tr>\n",
       "    <tr>\n",
       "      <th>8</th>\n",
       "      <td>2020-07-04</td>\n",
       "      <td>True</td>\n",
       "    </tr>\n",
       "    <tr>\n",
       "      <th>9</th>\n",
       "      <td>2020-09-07</td>\n",
       "      <td>True</td>\n",
       "    </tr>\n",
       "    <tr>\n",
       "      <th>10</th>\n",
       "      <td>2020-11-26</td>\n",
       "      <td>True</td>\n",
       "    </tr>\n",
       "    <tr>\n",
       "      <th>11</th>\n",
       "      <td>2020-12-25</td>\n",
       "      <td>True</td>\n",
       "    </tr>\n",
       "    <tr>\n",
       "      <th>12</th>\n",
       "      <td>2021-01-01</td>\n",
       "      <td>True</td>\n",
       "    </tr>\n",
       "    <tr>\n",
       "      <th>13</th>\n",
       "      <td>2021-05-31</td>\n",
       "      <td>True</td>\n",
       "    </tr>\n",
       "    <tr>\n",
       "      <th>14</th>\n",
       "      <td>2021-07-04</td>\n",
       "      <td>True</td>\n",
       "    </tr>\n",
       "    <tr>\n",
       "      <th>15</th>\n",
       "      <td>2021-09-06</td>\n",
       "      <td>True</td>\n",
       "    </tr>\n",
       "    <tr>\n",
       "      <th>16</th>\n",
       "      <td>2021-11-25</td>\n",
       "      <td>True</td>\n",
       "    </tr>\n",
       "    <tr>\n",
       "      <th>17</th>\n",
       "      <td>2021-12-25</td>\n",
       "      <td>True</td>\n",
       "    </tr>\n",
       "    <tr>\n",
       "      <th>18</th>\n",
       "      <td>2022-01-01</td>\n",
       "      <td>True</td>\n",
       "    </tr>\n",
       "    <tr>\n",
       "      <th>19</th>\n",
       "      <td>2022-05-30</td>\n",
       "      <td>True</td>\n",
       "    </tr>\n",
       "    <tr>\n",
       "      <th>20</th>\n",
       "      <td>2022-07-04</td>\n",
       "      <td>True</td>\n",
       "    </tr>\n",
       "    <tr>\n",
       "      <th>21</th>\n",
       "      <td>2022-09-05</td>\n",
       "      <td>True</td>\n",
       "    </tr>\n",
       "  </tbody>\n",
       "</table>\n",
       "</div>"
      ],
      "text/plain": [
       "          date  holiday\n",
       "0   2019-01-01     True\n",
       "1   2019-05-27     True\n",
       "2   2019-07-04     True\n",
       "3   2019-09-02     True\n",
       "4   2019-11-28     True\n",
       "5   2019-12-25     True\n",
       "6   2020-01-01     True\n",
       "7   2020-05-25     True\n",
       "8   2020-07-04     True\n",
       "9   2020-09-07     True\n",
       "10  2020-11-26     True\n",
       "11  2020-12-25     True\n",
       "12  2021-01-01     True\n",
       "13  2021-05-31     True\n",
       "14  2021-07-04     True\n",
       "15  2021-09-06     True\n",
       "16  2021-11-25     True\n",
       "17  2021-12-25     True\n",
       "18  2022-01-01     True\n",
       "19  2022-05-30     True\n",
       "20  2022-07-04     True\n",
       "21  2022-09-05     True"
      ]
     },
     "execution_count": 34,
     "metadata": {},
     "output_type": "execute_result"
    }
   ],
   "source": [
    "holiday = pd.read_csv('../data/holiday_data.csv')\n",
    "holiday"
   ]
  },
  {
   "cell_type": "code",
   "execution_count": 35,
   "metadata": {},
   "outputs": [
    {
     "data": {
      "text/plain": [
       "date       object\n",
       "holiday      bool\n",
       "dtype: object"
      ]
     },
     "execution_count": 35,
     "metadata": {},
     "output_type": "execute_result"
    }
   ],
   "source": [
    "holiday.dtypes"
   ]
  },
  {
   "cell_type": "code",
   "execution_count": 36,
   "metadata": {},
   "outputs": [
    {
     "data": {
      "text/html": [
       "<div>\n",
       "<style scoped>\n",
       "    .dataframe tbody tr th:only-of-type {\n",
       "        vertical-align: middle;\n",
       "    }\n",
       "\n",
       "    .dataframe tbody tr th {\n",
       "        vertical-align: top;\n",
       "    }\n",
       "\n",
       "    .dataframe thead th {\n",
       "        text-align: right;\n",
       "    }\n",
       "</style>\n",
       "<table border=\"1\" class=\"dataframe\">\n",
       "  <thead>\n",
       "    <tr style=\"text-align: right;\">\n",
       "      <th></th>\n",
       "      <th>location_id</th>\n",
       "      <th>population</th>\n",
       "      <th>elevation</th>\n",
       "    </tr>\n",
       "  </thead>\n",
       "  <tbody>\n",
       "    <tr>\n",
       "      <th>0</th>\n",
       "      <td>1</td>\n",
       "      <td>18428</td>\n",
       "      <td>375</td>\n",
       "    </tr>\n",
       "    <tr>\n",
       "      <th>1</th>\n",
       "      <td>2</td>\n",
       "      <td>32926</td>\n",
       "      <td>274</td>\n",
       "    </tr>\n",
       "    <tr>\n",
       "      <th>2</th>\n",
       "      <td>3</td>\n",
       "      <td>74138</td>\n",
       "      <td>505</td>\n",
       "    </tr>\n",
       "    <tr>\n",
       "      <th>3</th>\n",
       "      <td>4</td>\n",
       "      <td>14255</td>\n",
       "      <td>360</td>\n",
       "    </tr>\n",
       "    <tr>\n",
       "      <th>4</th>\n",
       "      <td>5</td>\n",
       "      <td>12686</td>\n",
       "      <td>386</td>\n",
       "    </tr>\n",
       "    <tr>\n",
       "      <th>5</th>\n",
       "      <td>6</td>\n",
       "      <td>86372</td>\n",
       "      <td>435</td>\n",
       "    </tr>\n",
       "    <tr>\n",
       "      <th>6</th>\n",
       "      <td>7</td>\n",
       "      <td>13400</td>\n",
       "      <td>186</td>\n",
       "    </tr>\n",
       "    <tr>\n",
       "      <th>7</th>\n",
       "      <td>8</td>\n",
       "      <td>52185</td>\n",
       "      <td>398</td>\n",
       "    </tr>\n",
       "    <tr>\n",
       "      <th>8</th>\n",
       "      <td>9</td>\n",
       "      <td>13641</td>\n",
       "      <td>350</td>\n",
       "    </tr>\n",
       "    <tr>\n",
       "      <th>9</th>\n",
       "      <td>10</td>\n",
       "      <td>425336</td>\n",
       "      <td>266</td>\n",
       "    </tr>\n",
       "    <tr>\n",
       "      <th>10</th>\n",
       "      <td>11</td>\n",
       "      <td>121465</td>\n",
       "      <td>398</td>\n",
       "    </tr>\n",
       "    <tr>\n",
       "      <th>11</th>\n",
       "      <td>12</td>\n",
       "      <td>196528</td>\n",
       "      <td>436</td>\n",
       "    </tr>\n",
       "    <tr>\n",
       "      <th>12</th>\n",
       "      <td>13</td>\n",
       "      <td>68818</td>\n",
       "      <td>310</td>\n",
       "    </tr>\n",
       "  </tbody>\n",
       "</table>\n",
       "</div>"
      ],
      "text/plain": [
       "    location_id  population  elevation\n",
       "0             1       18428        375\n",
       "1             2       32926        274\n",
       "2             3       74138        505\n",
       "3             4       14255        360\n",
       "4             5       12686        386\n",
       "5             6       86372        435\n",
       "6             7       13400        186\n",
       "7             8       52185        398\n",
       "8             9       13641        350\n",
       "9            10      425336        266\n",
       "10           11      121465        398\n",
       "11           12      196528        436\n",
       "12           13       68818        310"
      ]
     },
     "execution_count": 36,
     "metadata": {},
     "output_type": "execute_result"
    }
   ],
   "source": [
    "location = pd.read_csv('../data/location_data.csv')\n",
    "location"
   ]
  },
  {
   "cell_type": "code",
   "execution_count": 37,
   "metadata": {},
   "outputs": [
    {
     "data": {
      "text/plain": [
       "location_id    int64\n",
       "population     int64\n",
       "elevation      int64\n",
       "dtype: object"
      ]
     },
     "execution_count": 37,
     "metadata": {},
     "output_type": "execute_result"
    }
   ],
   "source": [
    "location.dtypes"
   ]
  },
  {
   "cell_type": "code",
   "execution_count": 38,
   "metadata": {},
   "outputs": [
    {
     "data": {
      "text/html": [
       "<div>\n",
       "<style scoped>\n",
       "    .dataframe tbody tr th:only-of-type {\n",
       "        vertical-align: middle;\n",
       "    }\n",
       "\n",
       "    .dataframe tbody tr th {\n",
       "        vertical-align: top;\n",
       "    }\n",
       "\n",
       "    .dataframe thead th {\n",
       "        text-align: right;\n",
       "    }\n",
       "</style>\n",
       "<table border=\"1\" class=\"dataframe\">\n",
       "  <thead>\n",
       "    <tr style=\"text-align: right;\">\n",
       "      <th></th>\n",
       "      <th>location_id</th>\n",
       "      <th>date</th>\n",
       "      <th>temperature</th>\n",
       "      <th>pressure</th>\n",
       "      <th>humidity</th>\n",
       "      <th>cloudy</th>\n",
       "      <th>precipitation</th>\n",
       "    </tr>\n",
       "  </thead>\n",
       "  <tbody>\n",
       "    <tr>\n",
       "      <th>0</th>\n",
       "      <td>3</td>\n",
       "      <td>2020-01-22</td>\n",
       "      <td>18.14</td>\n",
       "      <td>1035.058685</td>\n",
       "      <td>0.44</td>\n",
       "      <td>True</td>\n",
       "      <td>False</td>\n",
       "    </tr>\n",
       "    <tr>\n",
       "      <th>1</th>\n",
       "      <td>8</td>\n",
       "      <td>2022-01-29</td>\n",
       "      <td>14.36</td>\n",
       "      <td>1027.253521</td>\n",
       "      <td>0.95</td>\n",
       "      <td>True</td>\n",
       "      <td>False</td>\n",
       "    </tr>\n",
       "    <tr>\n",
       "      <th>2</th>\n",
       "      <td>5</td>\n",
       "      <td>2021-11-28</td>\n",
       "      <td>35.42</td>\n",
       "      <td>994.694836</td>\n",
       "      <td>0.37</td>\n",
       "      <td>False</td>\n",
       "      <td>False</td>\n",
       "    </tr>\n",
       "    <tr>\n",
       "      <th>3</th>\n",
       "      <td>6</td>\n",
       "      <td>2021-10-12</td>\n",
       "      <td>37.94</td>\n",
       "      <td>1003.838028</td>\n",
       "      <td>0.11</td>\n",
       "      <td>True</td>\n",
       "      <td>True</td>\n",
       "    </tr>\n",
       "    <tr>\n",
       "      <th>4</th>\n",
       "      <td>2</td>\n",
       "      <td>2020-12-03</td>\n",
       "      <td>23.36</td>\n",
       "      <td>1027.476526</td>\n",
       "      <td>0.60</td>\n",
       "      <td>False</td>\n",
       "      <td>False</td>\n",
       "    </tr>\n",
       "    <tr>\n",
       "      <th>...</th>\n",
       "      <td>...</td>\n",
       "      <td>...</td>\n",
       "      <td>...</td>\n",
       "      <td>...</td>\n",
       "      <td>...</td>\n",
       "      <td>...</td>\n",
       "      <td>...</td>\n",
       "    </tr>\n",
       "    <tr>\n",
       "      <th>17273</th>\n",
       "      <td>6</td>\n",
       "      <td>2022-07-03</td>\n",
       "      <td>78.98</td>\n",
       "      <td>966.819249</td>\n",
       "      <td>0.88</td>\n",
       "      <td>True</td>\n",
       "      <td>True</td>\n",
       "    </tr>\n",
       "    <tr>\n",
       "      <th>17274</th>\n",
       "      <td>6</td>\n",
       "      <td>2020-02-20</td>\n",
       "      <td>9.68</td>\n",
       "      <td>971.948357</td>\n",
       "      <td>0.53</td>\n",
       "      <td>False</td>\n",
       "      <td>False</td>\n",
       "    </tr>\n",
       "    <tr>\n",
       "      <th>17275</th>\n",
       "      <td>10</td>\n",
       "      <td>2020-10-02</td>\n",
       "      <td>41.18</td>\n",
       "      <td>1013.873239</td>\n",
       "      <td>0.90</td>\n",
       "      <td>False</td>\n",
       "      <td>False</td>\n",
       "    </tr>\n",
       "    <tr>\n",
       "      <th>17276</th>\n",
       "      <td>1</td>\n",
       "      <td>2019-12-15</td>\n",
       "      <td>15.08</td>\n",
       "      <td>990.457746</td>\n",
       "      <td>0.74</td>\n",
       "      <td>False</td>\n",
       "      <td>False</td>\n",
       "    </tr>\n",
       "    <tr>\n",
       "      <th>17277</th>\n",
       "      <td>6</td>\n",
       "      <td>2020-12-12</td>\n",
       "      <td>21.92</td>\n",
       "      <td>976.854460</td>\n",
       "      <td>0.59</td>\n",
       "      <td>True</td>\n",
       "      <td>True</td>\n",
       "    </tr>\n",
       "  </tbody>\n",
       "</table>\n",
       "<p>17278 rows × 7 columns</p>\n",
       "</div>"
      ],
      "text/plain": [
       "       location_id        date  temperature     pressure  humidity  cloudy  \\\n",
       "0                3  2020-01-22        18.14  1035.058685      0.44    True   \n",
       "1                8  2022-01-29        14.36  1027.253521      0.95    True   \n",
       "2                5  2021-11-28        35.42   994.694836      0.37   False   \n",
       "3                6  2021-10-12        37.94  1003.838028      0.11    True   \n",
       "4                2  2020-12-03        23.36  1027.476526      0.60   False   \n",
       "...            ...         ...          ...          ...       ...     ...   \n",
       "17273            6  2022-07-03        78.98   966.819249      0.88    True   \n",
       "17274            6  2020-02-20         9.68   971.948357      0.53   False   \n",
       "17275           10  2020-10-02        41.18  1013.873239      0.90   False   \n",
       "17276            1  2019-12-15        15.08   990.457746      0.74   False   \n",
       "17277            6  2020-12-12        21.92   976.854460      0.59    True   \n",
       "\n",
       "       precipitation  \n",
       "0              False  \n",
       "1              False  \n",
       "2              False  \n",
       "3               True  \n",
       "4              False  \n",
       "...              ...  \n",
       "17273           True  \n",
       "17274          False  \n",
       "17275          False  \n",
       "17276          False  \n",
       "17277           True  \n",
       "\n",
       "[17278 rows x 7 columns]"
      ]
     },
     "execution_count": 38,
     "metadata": {},
     "output_type": "execute_result"
    }
   ],
   "source": [
    "weather = pd.read_csv('../data/weather_data.csv')\n",
    "weather"
   ]
  },
  {
   "cell_type": "code",
   "execution_count": 39,
   "metadata": {},
   "outputs": [
    {
     "data": {
      "text/plain": [
       "location_id        int64\n",
       "date              object\n",
       "temperature      float64\n",
       "pressure         float64\n",
       "humidity         float64\n",
       "cloudy              bool\n",
       "precipitation       bool\n",
       "dtype: object"
      ]
     },
     "execution_count": 39,
     "metadata": {},
     "output_type": "execute_result"
    }
   ],
   "source": [
    "weather.dtypes"
   ]
  },
  {
   "cell_type": "code",
   "execution_count": 40,
   "metadata": {},
   "outputs": [
    {
     "name": "stdout",
     "output_type": "stream",
     "text": [
      "Empty DataFrame\n",
      "Columns: [location_id, date, temperature, pressure, humidity, cloudy, precipitation]\n",
      "Index: []\n"
     ]
    }
   ],
   "source": [
    "rows_with_nulls_weather = weather[weather.isnull().any(axis=1)]\n",
    "print(rows_with_nulls_weather)"
   ]
  }
 ],
 "metadata": {
  "kernelspec": {
   "display_name": "Python 3",
   "language": "python",
   "name": "python3"
  },
  "language_info": {
   "codemirror_mode": {
    "name": "ipython",
    "version": 3
   },
   "file_extension": ".py",
   "mimetype": "text/x-python",
   "name": "python",
   "nbconvert_exporter": "python",
   "pygments_lexer": "ipython3",
   "version": "3.10.6"
  }
 },
 "nbformat": 4,
 "nbformat_minor": 2
}
